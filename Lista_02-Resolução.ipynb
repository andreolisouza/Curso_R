{
 "cells": [
  {
   "cell_type": "markdown",
   "metadata": {},
   "source": [
    "![LogoECG](logoTCE_ECG_withR.jpg)\n",
    "\n",
    "### CURSO: INTRODUÇÃO AO SOFTWARE R\n",
    "\n",
    "Marcos F Silva - 09/03/2016\n",
    "\n",
    "\n",
    "<center> \n",
    "\n",
    "**LISTA DE EXERCÍCIOS 02**  \n",
    "Tópico: Importação e Exportação de Dados\n",
    "\n",
    "</center>\n"
   ]
  },
  {
   "cell_type": "markdown",
   "metadata": {},
   "source": [
    "***"
   ]
  },
  {
   "cell_type": "markdown",
   "metadata": {},
   "source": [
    "**(1)** No [portal da transparência do governo federal](http://transparencia.gov.br/) na seção denominada **Download de dados** é possível baixar diversos conjuntos de dados disponíveis no portal. Dentre estes dados consta o CADASTRO NACIONAL DE EMPRESAS INIDÔNEAS E SUSPENSAS (CEIS), que é um arquivo contendo a relação das empreas que foram declaradas inidôneas ou foram suspensas de contratar com a administração pública.  \n",
    "\n",
    "Importe o conjunto de dados contido no arquivo **`20160306_CEIS.zip`** e informe quantos registros tem a base de dados."
   ]
  },
  {
   "cell_type": "code",
   "execution_count": 8,
   "metadata": {
    "collapsed": false
   },
   "outputs": [],
   "source": [
    "library(openxlsx)"
   ]
  },
  {
   "cell_type": "code",
   "execution_count": null,
   "metadata": {
    "collapsed": true
   },
   "outputs": [],
   "source": [
    "diretorio <- iconv('G:\\\\1.5 - Curso R - Introdução ao R - 2016-T5\\\\2. dados\\\\Lista_02', from='utf-8', to='latin1')\n",
    "setwd(diretorio)"
   ]
  },
  {
   "cell_type": "code",
   "execution_count": 10,
   "metadata": {
    "collapsed": false
   },
   "outputs": [
    {
     "data": {
      "text/plain": [
       "               Name  Length                Date\n",
       "1 20160306_CEIS.csv 3584779 2016-03-06 02:14:00"
      ]
     },
     "execution_count": 10,
     "metadata": {},
     "output_type": "execute_result"
    }
   ],
   "source": [
    "arquivos <- unzip('20160306_CEIS.zip', list=TRUE)\n",
    "arquivos"
   ]
  },
  {
   "cell_type": "code",
   "execution_count": 12,
   "metadata": {
    "collapsed": false
   },
   "outputs": [],
   "source": [
    "## Extração do arquivo '20160306_CEIS.csv'\n",
    "unzip('20160306_CEIS.zip', exdir='C:\\\\Temp')"
   ]
  },
  {
   "cell_type": "code",
   "execution_count": 23,
   "metadata": {
    "collapsed": false
   },
   "outputs": [],
   "source": [
    "setwd('C:\\\\Temp')\n",
    "convenios <- read.table('20160306_CEIS.csv',\n",
    "                        sep='\\t',\n",
    "                        header=TRUE,\n",
    "                        comment.char='',\n",
    "                        quote='',\n",
    "                        skipNul = TRUE)"
   ]
  },
  {
   "cell_type": "code",
   "execution_count": 24,
   "metadata": {
    "collapsed": false
   },
   "outputs": [
    {
     "data": {
      "text/plain": [
       "[1] 12216"
      ]
     },
     "execution_count": 24,
     "metadata": {},
     "output_type": "execute_result"
    }
   ],
   "source": [
    "nrow(convenios)"
   ]
  },
  {
   "cell_type": "markdown",
   "metadata": {},
   "source": [
    "***"
   ]
  },
  {
   "cell_type": "markdown",
   "metadata": {},
   "source": [
    "**(2)** O Tribunal de Contas da União vem colhendo informações junto a seus jurisdicionados visando obter um perfil da Governança de TI dos mesmos. Os dados relativos ao ciclo de 2014 estão disponíveis no endereço eletrônico http://dados.gov.br/dataset/dados-coletados-no-perfil-de-governanca-de-ti. \n",
    "\n",
    "Importe o conjunto de dados **`DadosColetados_PerfilGovTI 2014.xlsx`** e diga quantos registros tem a base de dados. "
   ]
  },
  {
   "cell_type": "code",
   "execution_count": 28,
   "metadata": {
    "collapsed": false
   },
   "outputs": [],
   "source": [
    "setwd(diretorio)\n",
    "igovTI <- read.xlsx('DadosColetados_PerfilGovTI 2014.xlsx',\n",
    "                     sheet = 1,\n",
    "                     startRow = 3)"
   ]
  },
  {
   "cell_type": "code",
   "execution_count": 31,
   "metadata": {
    "collapsed": false
   },
   "outputs": [
    {
     "data": {
      "text/plain": [
       "[1] 372"
      ]
     },
     "execution_count": 31,
     "metadata": {},
     "output_type": "execute_result"
    }
   ],
   "source": [
    "nrow(igovTI)"
   ]
  },
  {
   "cell_type": "markdown",
   "metadata": {},
   "source": [
    "***"
   ]
  },
  {
   "cell_type": "markdown",
   "metadata": {},
   "source": [
    "**(3)** Utilizando o pacote `sqldf` e o conjunto de dados `ESCOLAS.CSV` importe os registros relativos às escolas do município do Rio de Janeiro.\n",
    "\n",
    "Para fazer esta seleção as variáveis `FK_COD_MUNICIPIO` e `ID_DEPENDENCIA_ADM` devem ser, respectivamente, iguais á 3304557 e 3. "
   ]
  },
  {
   "cell_type": "code",
   "execution_count": null,
   "metadata": {
    "collapsed": true
   },
   "outputs": [],
   "source": []
  },
  {
   "cell_type": "markdown",
   "metadata": {},
   "source": [
    "**(4)** No site do [Sistema de Inoformações Contábeis e Fiscais(Siconfi)](https://siconfi.tesouro.gov.br/siconfi) é possível baixar diversos conjuntos de dados contábeis e fiscais de estados e municípios.\n",
    "\n",
    "O arquivo **`finbraRREO_MUN_Receitarealizadatotal(ultimos12meses).zip`**, obtido no site em referência, contém um arquivo `.csv` contendo informações relativas ao **Anexo 03-Demonstrativo da Receita Corrente Líquida** para o primeiro bimestre de 2015. Importe o conteúdo do arquivo. Quantos registros o conjunto de dados?"
   ]
  },
  {
   "cell_type": "code",
   "execution_count": null,
   "metadata": {
    "collapsed": true
   },
   "outputs": [],
   "source": []
  },
  {
   "cell_type": "markdown",
   "metadata": {},
   "source": [
    "**(5)** O arquivo **`SICONFI_DCA_6561_ANUAL_1.xls`** contém dados contábeis do município de **Angra dos Reis** relativos ao exercício de 2014. Utilizando qualquer um dos pacotes para importação de arquivos em excel vistos em sala de aula, importe o conteúdo da planilha **`DCA-Anexo I-G`**."
   ]
  },
  {
   "cell_type": "code",
   "execution_count": null,
   "metadata": {
    "collapsed": true
   },
   "outputs": [],
   "source": []
  },
  {
   "cell_type": "markdown",
   "metadata": {},
   "source": [
    "**(6)** O R dispôe dos conjuntos de dados **`rock`** e **`ToothGrowth`**. Exporte estes dados para uma planilha Excel, de forma que cada conjunto de dados fique em uma planilha diferente."
   ]
  },
  {
   "cell_type": "code",
   "execution_count": null,
   "metadata": {
    "collapsed": true
   },
   "outputs": [],
   "source": []
  },
  {
   "cell_type": "markdown",
   "metadata": {},
   "source": [
    "**(7)** Importe os dados contidos no arquivo **`14SerieRouboVeiculo2015.xls`** obtido no site do [Instituto de Segurança Pública (ISP)](http://www.isp.rj.gov.br/). Ignore a coluna e linha de totalizações."
   ]
  },
  {
   "cell_type": "code",
   "execution_count": null,
   "metadata": {
    "collapsed": true
   },
   "outputs": [],
   "source": []
  }
 ],
 "metadata": {
  "kernelspec": {
   "display_name": "R-3.2.1",
   "language": "",
   "name": "ir32"
  },
  "language_info": {
   "codemirror_mode": "r",
   "file_extension": ".r",
   "mimetype": "text/x-r-source",
   "name": "R",
   "pygments_lexer": "r",
   "version": "3.2.1"
  }
 },
 "nbformat": 4,
 "nbformat_minor": 0
}

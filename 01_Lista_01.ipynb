{
 "cells": [
  {
   "cell_type": "markdown",
   "metadata": {},
   "source": [
    "![LogoECG](logoTCE_ECG_withR.jpg)\n",
    "\n",
    "### CURSO: INTRODUÇÃO AO SOFTWARE R\n",
    "\n",
    "Marcos F Silva\n",
    "\n",
    "<center> \n",
    "**LISTA DE EXERCÍCIOS 01**\n",
    "</center>  "
   ]
  },
  {
   "cell_type": "markdown",
   "metadata": {},
   "source": [
    "### 1. Estruturas de Dados"
   ]
  },
  {
   "cell_type": "markdown",
   "metadata": {},
   "source": [
    "**1.1** Crie um vetor chamado **`vec`** contendo os elementos {26, 48, 72, 45, 12, 16, 79, 88}.  \n",
    "Obtenha um novo vetor contendo o primeiro e o último elementos do vetor **`vec`**.  "
   ]
  },
  {
   "cell_type": "code",
   "execution_count": null,
   "metadata": {
    "collapsed": false
   },
   "outputs": [],
   "source": []
  },
  {
   "cell_type": "markdown",
   "metadata": {},
   "source": [
    "**1.2** Insira entre os elementos 72 e 45 do vetor **`vec`** os elementos {24, 13, 42}"
   ]
  },
  {
   "cell_type": "code",
   "execution_count": null,
   "metadata": {
    "collapsed": false
   },
   "outputs": [],
   "source": []
  },
  {
   "cell_type": "markdown",
   "metadata": {},
   "source": [
    "**1.3** Obtenha os valores da diagonal principal da matriz **A** definida a seguir:  \n",
    "\n",
    "$\n",
    "\\begin{bmatrix}\n",
    "35 & 72 & 45 \\\\\n",
    "20 &  9 & 17 \\\\ \n",
    "13 & 16 & 78\n",
    "\\end{bmatrix}\n",
    "$"
   ]
  },
  {
   "cell_type": "code",
   "execution_count": null,
   "metadata": {
    "collapsed": true
   },
   "outputs": [],
   "source": []
  },
  {
   "cell_type": "markdown",
   "metadata": {},
   "source": [
    "### 2. Modos de Armazenamento"
   ]
  },
  {
   "cell_type": "markdown",
   "metadata": {},
   "source": [
    "### 3. Operadores Matemáticos"
   ]
  },
  {
   "cell_type": "markdown",
   "metadata": {},
   "source": [
    "Calcule as seguintes expressões:  \n",
    "\n",
    "a) $\\sqrt{76}$  \n",
    "\n",
    "b) $3 + 9 / 5$  \n",
    "\n",
    "c) $56^4 + \\frac{29}{5}$  \n",
    "\n",
    "d) $| 18 - 50 |$\n",
    "\n",
    "\n",
    "\n",
    "\n"
   ]
  },
  {
   "cell_type": "code",
   "execution_count": null,
   "metadata": {
    "collapsed": true
   },
   "outputs": [],
   "source": []
  },
  {
   "cell_type": "markdown",
   "metadata": {},
   "source": [
    "### 4. Funções Matemáticas e Estatísticas"
   ]
  },
  {
   "cell_type": "markdown",
   "metadata": {},
   "source": [
    "d) $\\ln{12345} \\quad \\log_2{12345} \\quad \\log_{10}{12345}$  \n",
    "\n",
    "e) $\\binom{6}{2}$"
   ]
  },
  {
   "cell_type": "markdown",
   "metadata": {},
   "source": [
    "### 5. Operadores de Comparação"
   ]
  },
  {
   "cell_type": "markdown",
   "metadata": {},
   "source": [
    "### 6. Operadores Lógicos"
   ]
  },
  {
   "cell_type": "markdown",
   "metadata": {},
   "source": [
    "### 7. Valores Especiais"
   ]
  },
  {
   "cell_type": "code",
   "execution_count": null,
   "metadata": {
    "collapsed": true
   },
   "outputs": [],
   "source": []
  }
 ],
 "metadata": {
  "kernelspec": {
   "display_name": "R",
   "language": "",
   "name": "ir"
  },
  "language_info": {
   "codemirror_mode": "r",
   "file_extension": ".r",
   "mimetype": "text/x-r-source",
   "name": "R",
   "pygments_lexer": "r",
   "version": "3.1.1"
  }
 },
 "nbformat": 4,
 "nbformat_minor": 0
}

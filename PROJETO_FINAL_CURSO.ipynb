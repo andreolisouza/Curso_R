{
 "cells": [
  {
   "cell_type": "markdown",
   "metadata": {},
   "source": [
    "![LogoECG](logoTCE_ECG_withR.jpg)\n",
    "\n",
    "### CURSO: INTRODUÇÃO AO SOFTWARE R\n",
    "\n",
    "Marcos F Silva - 26/11/2015   \n"
   ]
  },
  {
   "cell_type": "markdown",
   "metadata": {},
   "source": [
    "#### INTRUÇÕES PARA ELABORAÇÃO E ENTREGA\n",
    "\n",
    "A solução poderá ser encaminhada nos seguintes formatos:\n",
    "\n",
    "1. Notebook  \n",
    "2. RMarkdown (arquivo .Rmd e o documento gerado)  \n",
    "3. Scritp do R (arquivo .R)\n",
    "\n",
    "Data de Engrega: **06.12.2015 às 24:00**  "
   ]
  },
  {
   "cell_type": "markdown",
   "metadata": {},
   "source": [
    " **<center>PROJETO DE FINAL DE CURSO</center>**  "
   ]
  },
  {
   "cell_type": "markdown",
   "metadata": {},
   "source": [
    "O projeto de final de curso consistirá em elaborar, a partir dos microdados contidos em `Microdados_Set15.mdb`, um data frame com a seguinte estrutura:\n",
    "\n",
    "\n",
    "Títulos                            | D01   | D02   | ... |  Dn  \n",
    "-----------------------------------|-------|-------|-----|-----   \n",
    "Homicídio Doloso                   |       |       |     |     \n",
    "Lesão Corporal Seguida de Morte    |       |       |     |             \n",
    "Latrocínio                         |       |       |     |      \n",
    "Tentativa de Homicídio             |       |       |     |      \n",
    "Lesão Corporal Dolosa              |       |       |     |      \n",
    "Estupro                            |       |       |     |     \n",
    "Homicídio Culposo (no trânsito)    |       |       |     |       \n",
    "Letalidade Violenta                |       |       |     |        \n",
    "Roubo de Veículos                  |       |       |     |     \n",
    "Roubo de Rua                       |       |       |     |      \n",
    "\n",
    "Os **nomes das linhas** do data frame indicarão os títulos dos crimes e as colunas consistirão nas delegacias de polícia da área de ocorrência do fato objeto de registro.\n",
    "\n",
    "Este data frame deve conter a quantidade vítimas nos delitos contra a vida e a quantidade de registros nos delitos contra o patrimônio, em cada uma das delegacias de polícia.\n",
    "\n",
    "Após a construção do data frame:\n",
    "\n",
    "**a)** Faça um gráfico de barras contendo a quantidade de registros de roubo de rua feitos nas delegacias do Centro e da Baixada Fluminense (somar os quantitativso das delegacias dessas regiões). \n",
    "\n",
    "**b)** Elabore um ~~mapa temático~~ cartograma (valeu Mitzi) com as incidências de **letalidade violenta** ocorridas nas áreas pertencentes às delegacias de polícia que integram a RISP 1. Categorize essas incidências em 3 níveis e utilize o pacote RColorBrewer para colorir o cartograma.\n",
    "\n",
    "**c)** Faça um *reshape* do conjunto de dados para que o mesmo fique no formato longo.\n",
    "\n",
    "**d)** Faça um *boxplot* para mostrar a distribuição da quantidade de vítimas de homicídio doloso pelas delegacias. Coloque títulos, nomes nos eixos e pinte o boxplot com uma cor de sua escolha.\n",
    "\n",
    "**e)** Identifique as Delegacias de Polícia que possuam as maiores incidências de cada um dos títulos da base de dados criada acima."
   ]
  },
  {
   "cell_type": "markdown",
   "metadata": {
    "collapsed": true
   },
   "source": [
    "### <center> Boa Sorte! </center>"
   ]
  },
  {
   "cell_type": "code",
   "execution_count": null,
   "metadata": {
    "collapsed": true
   },
   "outputs": [],
   "source": []
  }
 ],
 "metadata": {
  "kernelspec": {
   "display_name": "R",
   "language": "",
   "name": "ir"
  },
  "language_info": {
   "codemirror_mode": "r",
   "file_extension": ".r",
   "mimetype": "text/x-r-source",
   "name": "R",
   "pygments_lexer": "r",
   "version": "3.1.1"
  }
 },
 "nbformat": 4,
 "nbformat_minor": 0
}

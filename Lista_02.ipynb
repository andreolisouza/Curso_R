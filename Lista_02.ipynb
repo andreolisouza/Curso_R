{
 "cells": [
  {
   "cell_type": "markdown",
   "metadata": {},
   "source": [
    "![LogoECG](logoTCE_ECG_withR.jpg)\n",
    "\n",
    "### CURSO: INTRODUÇÃO AO SOFTWARE R\n",
    "\n",
    "Marcos F Silva - 23/11/2015\n",
    "\n",
    "\n",
    "<center> \n",
    "\n",
    "**LISTA DE EXERCÍCIOS 02**  \n",
    "Tópico: Manipulação de Dados\n",
    "\n",
    "</center>"
   ]
  },
  {
   "cell_type": "markdown",
   "metadata": {
    "collapsed": true
   },
   "source": [
    "Importe o conjunto de dados **`microdados_isp_2013_2015Abr.csv`**.  Resposta às questões  e execute o que se pede a seguir:\n",
    "\n",
    "**a**) Quantas observações e quantas variáveis tem a base de dados?  \n",
    "\n",
    "**b**) Filtre a base de dados para obter apenas os registros relativos ao ano de 2014. Remova da área de trabalho a base de dados completa (2013 a abril de 2015).     \n",
    "\n",
    "**c**) Quantos registros de ocorrência (**`ID`**) têm esta nova base de dados?    \n",
    "\n",
    "**d**) Quantos casos de **homicídios dolosos** existem na base de dados?      \n",
    "\n",
    "**e**) Quantos registros de ocorrência relativos a **homicídios dolosos** por AISP?       \n",
    "\n",
    "**f**) Quantas vítimas de **homicídios dolosos** por AISP?        \n",
    "\n",
    "**g**) Crie uma coluna chamada REGIAO contendo valores `CAP`, `BXD` `INT` `GNT` conforme as AISP que a compõem. Veja o quadro a seguir:    \n",
    "\n",
    "REGIAO  | AISP  \n",
    "-------:|:---------:  \n",
    "CAP     | 27, 40, 31, 14, 18, 2, 23, 19, 17, 16, 41, 9, 22, 3, 6, 4, 5  \n",
    "BXD     | 24, 20, 39, 21, 15, 34  \n",
    "INT     | 29, 8, 36, 11, 32, 25, 35, 30, 38, 26, 10, 28, 33, 37  \n",
    "GNT     | 7, 12  \n",
    "\n",
    "**h**) Quantos casos de **latrocinio** ocorreram por REGIAO?  \n",
    "\n",
    "**i**) Em média, quanto tempo leva (em dias) até que haja a comunicação (data de feitura do RO) de roubo ou furto de veículos?   \n",
    "\n",
    "**j**) Crie uma nova variável chamada `Faixa_Horario` a partir da variável `HORF` contendo os seguintes valores:  \n",
    "\n",
    "Faixa_Horario | Hora do fato  \n",
    "--------------| -----------------\n",
    "Madrugada     | 00:00h às 05:59h  \n",
    "Manhã         | 06:00h âs 11:59h  \n",
    "Tarde         | 12:00h às 17:59h  \n",
    "Noite         | 18:00h às 23:59h  \n",
    "Nao_Informado | NA  \n",
    "\n",
    "**Nota:** Para realizar a conversão das variáves para o formato de data e hora será necessário associar uma data à variável `HORF`. \n",
    "\n",
    "**k**) Realize a 'limpeza' da variável `LOCF` atribuindo o valor NA a todos os valores que não identifiquem claramente o local do fato.   \n",
    "\n",
    "**l**) Calcule a quantidade de veículos roubados por dia da semana e Faixa de Horário.   \n",
    "\n",
    "**m**) Calcule a quantidade de vítimas de estupro por região e Faixa de Horário.        \n",
    "\n",
    "**n**) Filtre a base de dados para obter apenas os registros que se refiram a delitos que atentem contra a vida. Chame esse nova base de `delitos_contra_vida` e obtenha os registros relativos às vítimas. Quantos registros tem essa nova base de dados?     \n",
    "\n",
    "**o**) Quantos valores faltantes existem em cada uma das variáveis da base de dados?   \n",
    "\n",
    "**p**) Calcule a taxa por 100.000 hab. de **letalidade violenta** por Município.  Para obter a população por município utilize o arquivo **`populacao_municipios.txt`**.    \n"
   ]
  },
  {
   "cell_type": "markdown",
   "metadata": {
    "collapsed": true
   },
   "source": [
    "  "
   ]
  },
  {
   "cell_type": "code",
   "execution_count": null,
   "metadata": {
    "collapsed": true
   },
   "outputs": [],
   "source": []
  }
 ],
 "metadata": {
  "kernelspec": {
   "display_name": "R",
   "language": "",
   "name": "ir"
  },
  "language_info": {
   "codemirror_mode": "r",
   "file_extension": ".r",
   "mimetype": "text/x-r-source",
   "name": "R",
   "pygments_lexer": "r",
   "version": "3.1.1"
  }
 },
 "nbformat": 4,
 "nbformat_minor": 0
}

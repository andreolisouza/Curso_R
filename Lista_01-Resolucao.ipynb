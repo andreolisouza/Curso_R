{
 "cells": [
  {
   "cell_type": "markdown",
   "metadata": {},
   "source": [
    "![LogoECG](logoTCE_ECG_withR.jpg)\n",
    "\n",
    "### CURSO: INTRODUÇÃO AO SOFTWARE R\n",
    "\n",
    "Marcos F Silva - 15/03/2016\n",
    "\n",
    "\n",
    "<center> \n",
    "\n",
    "**RESOLUÇÃO DA LISTA DE EXERCÍCIOS 01**  \n",
    "Tópico: Introdução\n",
    "\n",
    "</center>"
   ]
  },
  {
   "cell_type": "markdown",
   "metadata": {},
   "source": [
    "***"
   ]
  },
  {
   "cell_type": "markdown",
   "metadata": {},
   "source": [
    ">**1** Crie um vetor chamado `vec` contendo os elementos {26, NA, 72, 45, 12, 16, NA, 88} e obtenha o que se pede:"
   ]
  },
  {
   "cell_type": "markdown",
   "metadata": {},
   "source": [
    ">**a)** Obtenha um novo vetor (`vec1`) contendo o primeiro e o último elementos do vetor `vec`;"
   ]
  },
  {
   "cell_type": "code",
   "execution_count": 6,
   "metadata": {
    "collapsed": false
   },
   "outputs": [
    {
     "data": {
      "text/plain": [
       "[1] 26 88"
      ]
     },
     "execution_count": 6,
     "metadata": {},
     "output_type": "execute_result"
    }
   ],
   "source": [
    "vec <- c(26, NA, 72, 45, 12, 16, NA, 88)\n",
    "vec1 <- vec[c(1, length(vec))]\n",
    "vec1"
   ]
  },
  {
   "cell_type": "markdown",
   "metadata": {},
   "source": [
    ">**b)** Insira entre os elementos 72 e 45 do vetor `vec` os elementos {24, 13, 42}.   \n",
    "**Dica**: a função `append()` pode ser útil;"
   ]
  },
  {
   "cell_type": "code",
   "execution_count": 5,
   "metadata": {
    "collapsed": false
   },
   "outputs": [
    {
     "data": {
      "text/plain": [
       " [1] 26 NA 72 24 13 42 24 13 42 24 13 42 45 12 16 NA 88"
      ]
     },
     "execution_count": 5,
     "metadata": {},
     "output_type": "execute_result"
    }
   ],
   "source": [
    "append(vec, c(24, 13, 42), 3)"
   ]
  },
  {
   "cell_type": "markdown",
   "metadata": {},
   "source": [
    ">**c)** Obtenha o produto dos elementos do vetor `vec`;"
   ]
  },
  {
   "cell_type": "code",
   "execution_count": 11,
   "metadata": {
    "collapsed": false
   },
   "outputs": [
    {
     "data": {
      "text/plain": [
       "[1] 1423319040"
      ]
     },
     "execution_count": 11,
     "metadata": {},
     "output_type": "execute_result"
    }
   ],
   "source": [
    "prod(vec, na.rm=TRUE)"
   ]
  },
  {
   "cell_type": "markdown",
   "metadata": {},
   "source": [
    ">**d)** Obtenha os valores que não sejam NAs;"
   ]
  },
  {
   "cell_type": "code",
   "execution_count": 12,
   "metadata": {
    "collapsed": false
   },
   "outputs": [
    {
     "data": {
      "text/plain": [
       "[1] 26 72 45 12 16 88"
      ]
     },
     "execution_count": 12,
     "metadata": {},
     "output_type": "execute_result"
    }
   ],
   "source": [
    "vec[!is.na(vec)]"
   ]
  },
  {
   "cell_type": "markdown",
   "metadata": {},
   "source": [
    ">**e)** Obtenha os valores maiores que a média dos elementos do vetor `vec`."
   ]
  },
  {
   "cell_type": "code",
   "execution_count": 20,
   "metadata": {
    "collapsed": false
   },
   "outputs": [
    {
     "data": {
      "text/plain": [
       "[1] NA 72 45 NA 88"
      ]
     },
     "execution_count": 20,
     "metadata": {},
     "output_type": "execute_result"
    }
   ],
   "source": [
    "vec[vec > mean(vec, na.rm=TRUE)]"
   ]
  },
  {
   "cell_type": "markdown",
   "metadata": {},
   "source": [
    ">**f)** Obtenha um vetor contendo os valores que imediatamente antecedem e sucedem a cada NA.   \n",
    "**Dica**: a função `which()` pode ser útil;    \n"
   ]
  },
  {
   "cell_type": "code",
   "execution_count": 41,
   "metadata": {
    "collapsed": false
   },
   "outputs": [
    {
     "data": {
      "text/plain": [
       "[1] 26 16 72 88"
      ]
     },
     "execution_count": 41,
     "metadata": {},
     "output_type": "execute_result"
    }
   ],
   "source": [
    "vec[c(which(is.na(vec)) - 1, which(is.na(vec)) + 1)]"
   ]
  },
  {
   "cell_type": "markdown",
   "metadata": {},
   "source": [
    ">**g)** Dados os vetores `a <- c(14, 27, 45, 72, 19, -12)` e `b <- c(6, 9, 8, NA, 7, 5)`, calcule $a + b$;"
   ]
  },
  {
   "cell_type": "code",
   "execution_count": 42,
   "metadata": {
    "collapsed": false
   },
   "outputs": [
    {
     "data": {
      "text/plain": [
       "[1] 20 36 53 NA 26 -7"
      ]
     },
     "execution_count": 42,
     "metadata": {},
     "output_type": "execute_result"
    }
   ],
   "source": [
    "a <- c(14, 27, 45, 72, 19, -12)\n",
    "b <- c(6, 9, 8, NA, 7, 5)\n",
    "a + b"
   ]
  },
  {
   "cell_type": "markdown",
   "metadata": {},
   "source": [
    ">**h)** Crie um vetor `num_pares` contendo os números inteiros pares menores que 100;"
   ]
  },
  {
   "cell_type": "code",
   "execution_count": 44,
   "metadata": {
    "collapsed": false
   },
   "outputs": [
    {
     "data": {
      "text/plain": [
       " [1]  2  4  6  8 10 12 14 16 18 20 22 24 26 28 30 32 34 36 38 40 42 44 46 48 50\n",
       "[26] 52 54 56 58 60 62 64 66 68 70 72 74 76 78 80 82 84 86 88 90 92 94 96 98"
      ]
     },
     "execution_count": 44,
     "metadata": {},
     "output_type": "execute_result"
    }
   ],
   "source": [
    "num_pares <- seq(2, 98, 2)\n",
    "num_pares"
   ]
  },
  {
   "cell_type": "markdown",
   "metadata": {},
   "source": [
    ">**i)** Exclua deste vetor os valores maiores que 60 e menores que 80;"
   ]
  },
  {
   "cell_type": "code",
   "execution_count": 45,
   "metadata": {
    "collapsed": false
   },
   "outputs": [
    {
     "data": {
      "text/plain": [
       " [1]  2  4  6  8 10 12 14 16 18 20 22 24 26 28 30 32 34 36 38 40 42 44 46 48 50\n",
       "[26] 52 54 56 58 60 80 82 84 86 88 90 92 94 96 98"
      ]
     },
     "execution_count": 45,
     "metadata": {},
     "output_type": "execute_result"
    }
   ],
   "source": [
    "vv <- num_pares[!(num_pares > 60 & num_pares < 80)]\n",
    "vv"
   ]
  },
  {
   "cell_type": "markdown",
   "metadata": {},
   "source": [
    ">**j)** Encontre a variância dos valores remanescentes."
   ]
  },
  {
   "cell_type": "code",
   "execution_count": 46,
   "metadata": {
    "collapsed": false
   },
   "outputs": [
    {
     "data": {
      "text/plain": [
       "[1] 885.897435897436"
      ]
     },
     "execution_count": 46,
     "metadata": {},
     "output_type": "execute_result"
    }
   ],
   "source": [
    "var(vv)"
   ]
  },
  {
   "cell_type": "markdown",
   "metadata": {},
   "source": [
    "***"
   ]
  },
  {
   "cell_type": "markdown",
   "metadata": {
    "collapsed": false
   },
   "source": [
    "> **2** O volume de um cone de raio R e altura H é dado por $\\frac{1}{3} \\times \\pi \\times R^2 \\times H$. Tendo obtido o volume e a altua de alguns cones dados a seguir, calcule o volume de cada um deles.\n",
    "\n",
    "$$R = \\{2.27, 1.98, 1.69, 1.88, 1.64, 2.14\\}$$\n",
    "$$H = \\{8.28, 8.04, 9.06, 8.70, 7.58, 8.34\\}$$"
   ]
  },
  {
   "cell_type": "code",
   "execution_count": 22,
   "metadata": {
    "collapsed": false
   },
   "outputs": [
    {
     "data": {
      "text/plain": [
       "     R    H volume\n",
       "1 2.27 8.28  44.68\n",
       "2 1.98 8.04  33.01\n",
       "3 1.69 9.06  27.10\n",
       "4 1.88 8.70  32.20\n",
       "5 1.64 7.58  21.35\n",
       "6 2.14 8.34  40.00"
      ]
     },
     "execution_count": 22,
     "metadata": {},
     "output_type": "execute_result"
    }
   ],
   "source": [
    "cones <- data.frame(R = c(2.27, 1.98, 1.69, 1.88, 1.64, 2.14),\n",
    "                    H = c(8.28, 8.04, 9.06, 8.70, 7.58, 8.34))\n",
    "\n",
    "cones$volume <- round(1/3 * pi * cones$R ^ 2 * cones$H, 2)\n",
    "cones"
   ]
  },
  {
   "cell_type": "markdown",
   "metadata": {},
   "source": [
    "***"
   ]
  },
  {
   "cell_type": "markdown",
   "metadata": {},
   "source": [
    ">**3** Calcule o que se pede:"
   ]
  },
  {
   "cell_type": "markdown",
   "metadata": {},
   "source": [
    "**a)** $3 + 9 / 5$"
   ]
  },
  {
   "cell_type": "code",
   "execution_count": 48,
   "metadata": {
    "collapsed": false
   },
   "outputs": [
    {
     "data": {
      "text/plain": [
       "[1] 4.8"
      ]
     },
     "execution_count": 48,
     "metadata": {},
     "output_type": "execute_result"
    }
   ],
   "source": [
    "3 + 9 / 5"
   ]
  },
  {
   "cell_type": "markdown",
   "metadata": {},
   "source": [
    "**b)** $56^4 + \\frac{29}{5}$"
   ]
  },
  {
   "cell_type": "code",
   "execution_count": 49,
   "metadata": {
    "collapsed": false
   },
   "outputs": [
    {
     "data": {
      "text/plain": [
       "[1] 9834501.8"
      ]
     },
     "execution_count": 49,
     "metadata": {},
     "output_type": "execute_result"
    }
   ],
   "source": [
    "56 ^ 4 + 29 / 5"
   ]
  },
  {
   "cell_type": "markdown",
   "metadata": {},
   "source": [
    "**c)** $\\sqrt{76}$"
   ]
  },
  {
   "cell_type": "code",
   "execution_count": 50,
   "metadata": {
    "collapsed": false
   },
   "outputs": [
    {
     "data": {
      "text/plain": [
       "[1] 8.71779788708135"
      ]
     },
     "execution_count": 50,
     "metadata": {},
     "output_type": "execute_result"
    }
   ],
   "source": [
    "sqrt(76)"
   ]
  },
  {
   "cell_type": "markdown",
   "metadata": {},
   "source": [
    "**d)** $\\ln{12345}$"
   ]
  },
  {
   "cell_type": "code",
   "execution_count": 52,
   "metadata": {
    "collapsed": false
   },
   "outputs": [
    {
     "data": {
      "text/plain": [
       "[1] 9.42100640177928"
      ]
     },
     "execution_count": 52,
     "metadata": {},
     "output_type": "execute_result"
    }
   ],
   "source": [
    "log(12345)"
   ]
  },
  {
   "cell_type": "markdown",
   "metadata": {},
   "source": [
    "**e)** $\\log_2{12345}$"
   ]
  },
  {
   "cell_type": "code",
   "execution_count": 53,
   "metadata": {
    "collapsed": false
   },
   "outputs": [
    {
     "data": {
      "text/plain": [
       "[1] 13.5916392160301"
      ]
     },
     "execution_count": 53,
     "metadata": {},
     "output_type": "execute_result"
    }
   ],
   "source": [
    "log2(12345)"
   ]
  },
  {
   "cell_type": "markdown",
   "metadata": {},
   "source": [
    "**f)** $\\log_{10}{12345}$"
   ]
  },
  {
   "cell_type": "code",
   "execution_count": 54,
   "metadata": {
    "collapsed": false
   },
   "outputs": [
    {
     "data": {
      "text/plain": [
       "[1] 4.09149109426795"
      ]
     },
     "execution_count": 54,
     "metadata": {},
     "output_type": "execute_result"
    }
   ],
   "source": [
    "log10(12345)"
   ]
  },
  {
   "cell_type": "markdown",
   "metadata": {},
   "source": [
    "**g)** $\\binom{6}{2}$    \n",
    "combinatório de seis, dois a dois (**Dica**: existe uma função que calcula isso)."
   ]
  },
  {
   "cell_type": "code",
   "execution_count": 55,
   "metadata": {
    "collapsed": false
   },
   "outputs": [
    {
     "data": {
      "text/plain": [
       "[1] 15"
      ]
     },
     "execution_count": 55,
     "metadata": {},
     "output_type": "execute_result"
    }
   ],
   "source": [
    "choose(6, 2)"
   ]
  },
  {
   "cell_type": "markdown",
   "metadata": {},
   "source": [
    "**h)** $| 18 - 50 |$"
   ]
  },
  {
   "cell_type": "code",
   "execution_count": 56,
   "metadata": {
    "collapsed": false
   },
   "outputs": [
    {
     "data": {
      "text/plain": [
       "[1] 32"
      ]
     },
     "execution_count": 56,
     "metadata": {},
     "output_type": "execute_result"
    }
   ],
   "source": [
    "abs(18 - 50)"
   ]
  },
  {
   "cell_type": "markdown",
   "metadata": {},
   "source": [
    "**i)** $\\sin(\\pi), \\cos(\\pi), \\tan(\\pi)$"
   ]
  },
  {
   "cell_type": "code",
   "execution_count": 59,
   "metadata": {
    "collapsed": false
   },
   "outputs": [
    {
     "data": {
      "text/plain": [
       "[1] 1.22460635382238e-16"
      ]
     },
     "execution_count": 59,
     "metadata": {},
     "output_type": "execute_result"
    },
    {
     "data": {
      "text/plain": [
       "[1] -1"
      ]
     },
     "execution_count": 59,
     "metadata": {},
     "output_type": "execute_result"
    },
    {
     "data": {
      "text/plain": [
       "[1] -1.22460635382238e-16"
      ]
     },
     "execution_count": 59,
     "metadata": {},
     "output_type": "execute_result"
    }
   ],
   "source": [
    "sin(pi); cos(pi); tan(pi)"
   ]
  },
  {
   "cell_type": "markdown",
   "metadata": {},
   "source": [
    "**j)** Arredonde o valor de $\\pi$ para 4 casas decimais;"
   ]
  },
  {
   "cell_type": "code",
   "execution_count": 47,
   "metadata": {
    "collapsed": false
   },
   "outputs": [
    {
     "data": {
      "text/plain": [
       "[1] 3.1416"
      ]
     },
     "execution_count": 47,
     "metadata": {},
     "output_type": "execute_result"
    }
   ],
   "source": [
    "round(pi, 4)"
   ]
  },
  {
   "cell_type": "markdown",
   "metadata": {},
   "source": [
    "***"
   ]
  },
  {
   "cell_type": "markdown",
   "metadata": {},
   "source": [
    ">**4** Dada a matriz **A** definida a seguir, obtenha o que se pede: \n",
    "\n",
    "</br>\n",
    "\n",
    "<center>\n",
    "$ A = \n",
    "\\begin{bmatrix}\n",
    "35 & 72 & 45 \\\\\n",
    "20 &  9 & 17 \\\\ \n",
    "13 & 16 & 78\n",
    "\\end{bmatrix}\n",
    "$\n",
    "</center> \n"
   ]
  },
  {
   "cell_type": "code",
   "execution_count": 60,
   "metadata": {
    "collapsed": false
   },
   "outputs": [
    {
     "data": {
      "text/plain": [
       "     [,1] [,2] [,3]\n",
       "[1,]   35   73   45\n",
       "[2,]   20    9   17\n",
       "[3,]   13   16   78"
      ]
     },
     "execution_count": 60,
     "metadata": {},
     "output_type": "execute_result"
    }
   ],
   "source": [
    "A <- matrix(c(35, 20, 13, 73, 9, 16, 45, 17, 78), nrow=3)\n",
    "A\n"
   ]
  },
  {
   "cell_type": "markdown",
   "metadata": {},
   "source": [
    ">**a)** obtenha os elementos da diagonal principal. **Dica**: existe uma função que faz isso...; "
   ]
  },
  {
   "cell_type": "code",
   "execution_count": 62,
   "metadata": {
    "collapsed": false
   },
   "outputs": [
    {
     "data": {
      "text/plain": [
       "[1] 35  9 78"
      ]
     },
     "execution_count": 62,
     "metadata": {},
     "output_type": "execute_result"
    }
   ],
   "source": [
    "diag(A)"
   ]
  },
  {
   "cell_type": "markdown",
   "metadata": {},
   "source": [
    ">**b)** obtenha a soma dos elementos da matriz; "
   ]
  },
  {
   "cell_type": "code",
   "execution_count": 63,
   "metadata": {
    "collapsed": false
   },
   "outputs": [
    {
     "data": {
      "text/plain": [
       "[1] 306"
      ]
     },
     "execution_count": 63,
     "metadata": {},
     "output_type": "execute_result"
    }
   ],
   "source": [
    "sum(A)"
   ]
  },
  {
   "cell_type": "markdown",
   "metadata": {},
   "source": [
    ">**c)** obtenha a soma dos elementos da primeira linha e da segunda coluna $(A_{11}+A_{12}+A_{13}+A_{12}+A_{22}+A_{32})$"
   ]
  },
  {
   "cell_type": "code",
   "execution_count": 65,
   "metadata": {
    "collapsed": false
   },
   "outputs": [
    {
     "data": {
      "text/plain": [
       "[1] 251"
      ]
     },
     "execution_count": 65,
     "metadata": {},
     "output_type": "execute_result"
    }
   ],
   "source": [
    "sum(A[1,], A[,2])"
   ]
  },
  {
   "cell_type": "markdown",
   "metadata": {},
   "source": [
    ">**d)** obtenha a soma da primeira coluna com com a terceira linha $(A_{.1}+A_{3.})$"
   ]
  },
  {
   "cell_type": "code",
   "execution_count": 66,
   "metadata": {
    "collapsed": false
   },
   "outputs": [
    {
     "data": {
      "text/plain": [
       "[1] 48 36 91"
      ]
     },
     "execution_count": 66,
     "metadata": {},
     "output_type": "execute_result"
    }
   ],
   "source": [
    "A[,1] + A[3,]"
   ]
  },
  {
   "cell_type": "markdown",
   "metadata": {},
   "source": [
    ">**e)** faça a trasposição da matriz;"
   ]
  },
  {
   "cell_type": "code",
   "execution_count": 67,
   "metadata": {
    "collapsed": false
   },
   "outputs": [
    {
     "data": {
      "text/plain": [
       "     [,1] [,2] [,3]\n",
       "[1,]   35   20   13\n",
       "[2,]   73    9   16\n",
       "[3,]   45   17   78"
      ]
     },
     "execution_count": 67,
     "metadata": {},
     "output_type": "execute_result"
    }
   ],
   "source": [
    "t(A)"
   ]
  },
  {
   "cell_type": "markdown",
   "metadata": {},
   "source": [
    ">**f)** crie duas novas colunas com os valores: coluna 4:{27, 48, 23}, coluna 5:{12, 3, 9};"
   ]
  },
  {
   "cell_type": "code",
   "execution_count": 68,
   "metadata": {
    "collapsed": false
   },
   "outputs": [
    {
     "data": {
      "text/plain": [
       "     [,1] [,2] [,3] [,4] [,5]\n",
       "[1,]   35   73   45   27   12\n",
       "[2,]   20    9   17   48    3\n",
       "[3,]   13   16   78   23    9"
      ]
     },
     "execution_count": 68,
     "metadata": {},
     "output_type": "execute_result"
    }
   ],
   "source": [
    "A <- cbind(A, c(27, 48, 23), c(12, 3, 9))\n",
    "A"
   ]
  },
  {
   "cell_type": "markdown",
   "metadata": {},
   "source": [
    ">**g)** substitua a terceira coluna de $A$ pela soma da segunda e terceira colunas;   "
   ]
  },
  {
   "cell_type": "code",
   "execution_count": 69,
   "metadata": {
    "collapsed": false
   },
   "outputs": [
    {
     "data": {
      "text/plain": [
       "     [,1] [,2] [,3] [,4] [,5]\n",
       "[1,]   35   73  118   27   12\n",
       "[2,]   20    9   26   48    3\n",
       "[3,]   13   16   94   23    9"
      ]
     },
     "execution_count": 69,
     "metadata": {},
     "output_type": "execute_result"
    }
   ],
   "source": [
    "A[,3] <- A[, 2] + A[, 3]\n",
    "A"
   ]
  },
  {
   "cell_type": "markdown",
   "metadata": {},
   "source": [
    "***"
   ]
  },
  {
   "cell_type": "markdown",
   "metadata": {},
   "source": [
    ">**5** Considerere o data frame definido a seguir:\n",
    "```\n",
    "df <- data.frame(nome = c('Marcos', 'João', 'José', NA, 'Maria', 'Helena', 'Jordana'),\n",
    "                 idade= c(44, 26, NA, 29, 41, 55, 72))  \n",
    "```                 \n"
   ]
  },
  {
   "cell_type": "markdown",
   "metadata": {},
   "source": [
    ">**a)** Obtenha as linhas para as quais existam NA.   \n",
    ">**Dica**: a função `complete.cases()` pode ser útil;"
   ]
  },
  {
   "cell_type": "code",
   "execution_count": 16,
   "metadata": {
    "collapsed": false
   },
   "outputs": [
    {
     "data": {
      "text/plain": [
       "     nome idade\n",
       "1  Marcos    44\n",
       "2   JoÃ£o    26\n",
       "3   JosÃ©    NA\n",
       "4    <NA>    29\n",
       "5   Maria    41\n",
       "6  Helena    55\n",
       "7 Jordana    72"
      ]
     },
     "execution_count": 16,
     "metadata": {},
     "output_type": "execute_result"
    }
   ],
   "source": [
    "df <- data.frame(nome = c('Marcos', 'João', 'José', NA, 'Maria', 'Helena', 'Jordana'),\n",
    "                 idade= c(44, 26, NA, 29, 41, 55, 72),\n",
    "                stringsAsFactors=FALSE)\n",
    "\n",
    "df"
   ]
  },
  {
   "cell_type": "code",
   "execution_count": 17,
   "metadata": {
    "collapsed": false
   },
   "outputs": [
    {
     "data": {
      "text/plain": [
       "   nome idade\n",
       "3 JosÃ©    NA\n",
       "4  <NA>    29"
      ]
     },
     "execution_count": 17,
     "metadata": {},
     "output_type": "execute_result"
    }
   ],
   "source": [
    "df[!complete.cases(df),]"
   ]
  },
  {
   "cell_type": "markdown",
   "metadata": {},
   "source": [
    ">**b)** Obtenha a soma dos valores da coluna `idade`;"
   ]
  },
  {
   "cell_type": "code",
   "execution_count": 18,
   "metadata": {
    "collapsed": false
   },
   "outputs": [
    {
     "data": {
      "text/plain": [
       "[1] 267"
      ]
     },
     "execution_count": 18,
     "metadata": {},
     "output_type": "execute_result"
    }
   ],
   "source": [
    "sum(df$idade, na.rm=TRUE)"
   ]
  },
  {
   "cell_type": "markdown",
   "metadata": {},
   "source": [
    ">**c)** Selecione a linha contendo o nome da pessoa de menor idade;"
   ]
  },
  {
   "cell_type": "code",
   "execution_count": 19,
   "metadata": {
    "collapsed": false
   },
   "outputs": [
    {
     "data": {
      "text/plain": [
       "   nome idade\n",
       "2 JoÃ£o    26"
      ]
     },
     "execution_count": 19,
     "metadata": {},
     "output_type": "execute_result"
    }
   ],
   "source": [
    "df[which.min(df$idade),]"
   ]
  },
  {
   "cell_type": "markdown",
   "metadata": {},
   "source": [
    ">**d)** Obtenha as linas para as quais não existam NA;"
   ]
  },
  {
   "cell_type": "code",
   "execution_count": 20,
   "metadata": {
    "collapsed": false
   },
   "outputs": [
    {
     "data": {
      "text/plain": [
       "     nome idade\n",
       "1  Marcos    44\n",
       "2   JoÃ£o    26\n",
       "5   Maria    41\n",
       "6  Helena    55\n",
       "7 Jordana    72"
      ]
     },
     "execution_count": 20,
     "metadata": {},
     "output_type": "execute_result"
    }
   ],
   "source": [
    "df[complete.cases(df),]"
   ]
  },
  {
   "cell_type": "markdown",
   "metadata": {},
   "source": [
    ">**e)** Calcule as dimensões de `df['idade']` e `df[['idade']]`. Use a função `dim()`;"
   ]
  },
  {
   "cell_type": "code",
   "execution_count": 21,
   "metadata": {
    "collapsed": false
   },
   "outputs": [
    {
     "data": {
      "text/plain": [
       "[1] 7 1"
      ]
     },
     "execution_count": 21,
     "metadata": {},
     "output_type": "execute_result"
    },
    {
     "data": {
      "text/plain": [
       "NULL"
      ]
     },
     "execution_count": 21,
     "metadata": {},
     "output_type": "execute_result"
    }
   ],
   "source": [
    "dim(df['idade']); dim(df[['idade']])"
   ]
  },
  {
   "cell_type": "markdown",
   "metadata": {},
   "source": [
    ">**f)** Obtenha os nomes das variáveis do data frame `df`;"
   ]
  },
  {
   "cell_type": "code",
   "execution_count": 10,
   "metadata": {
    "collapsed": false
   },
   "outputs": [
    {
     "data": {
      "text/plain": [
       "[1] \"nome\"  \"idade\""
      ]
     },
     "execution_count": 10,
     "metadata": {},
     "output_type": "execute_result"
    }
   ],
   "source": [
    "names(df)"
   ]
  },
  {
   "cell_type": "markdown",
   "metadata": {},
   "source": [
    ">**g)** Adicione ao data frame os seguintes valores {Felipe, 36}, {Carla, 49} e {Rosane, 18};"
   ]
  },
  {
   "cell_type": "code",
   "execution_count": 22,
   "metadata": {
    "collapsed": false
   },
   "outputs": [
    {
     "data": {
      "text/plain": [
       "      nome idade\n",
       "1   Marcos    44\n",
       "2    JoÃ£o    26\n",
       "3    JosÃ©  <NA>\n",
       "4     <NA>    29\n",
       "5    Maria    41\n",
       "6   Helena    55\n",
       "7  Jordana    72\n",
       "8   Felipe    36\n",
       "9    Carla    49\n",
       "10  Rosana    18"
      ]
     },
     "execution_count": 22,
     "metadata": {},
     "output_type": "execute_result"
    }
   ],
   "source": [
    "df <- rbind(df,\n",
    "            c(\"Felipe\", 36),\n",
    "            c(\"Carla\", 49),\n",
    "            c(\"Rosana\", 18))\n",
    "\n",
    "df"
   ]
  },
  {
   "cell_type": "markdown",
   "metadata": {},
   "source": [
    ">**h)** Obtenha os números das linhas para as quais existam NA;"
   ]
  },
  {
   "cell_type": "code",
   "execution_count": 24,
   "metadata": {
    "collapsed": false
   },
   "outputs": [
    {
     "data": {
      "text/plain": [
       "[1] 3 4"
      ]
     },
     "execution_count": 24,
     "metadata": {},
     "output_type": "execute_result"
    }
   ],
   "source": [
    "which(!complete.cases(df))"
   ]
  },
  {
   "cell_type": "markdown",
   "metadata": {},
   "source": [
    "***"
   ]
  },
  {
   "cell_type": "markdown",
   "metadata": {
    "collapsed": true
   },
   "source": [
    ">**6** Experimente o comando `which.min(c(3,5,1,7,8))`. Explique o valor retornado pela função."
   ]
  },
  {
   "cell_type": "code",
   "execution_count": 23,
   "metadata": {
    "collapsed": false
   },
   "outputs": [
    {
     "data": {
      "text/plain": [
       "[1] 3"
      ]
     },
     "execution_count": 23,
     "metadata": {},
     "output_type": "execute_result"
    }
   ],
   "source": [
    "which.min(c(3,5,1,7,8))"
   ]
  },
  {
   "cell_type": "markdown",
   "metadata": {},
   "source": [
    "A função retorna a posição do menor valor existente no vetor."
   ]
  },
  {
   "cell_type": "markdown",
   "metadata": {},
   "source": [
    ">**7** Considere a lista **`x.lis`** definida da seguinte forma: `x.lis <- list(a=1:10, b=letters[1:3], c=matrix(1:10,ncol=2))`."
   ]
  },
  {
   "cell_type": "markdown",
   "metadata": {},
   "source": [
    ">**a)** Obtenha a soma acumulada dos elementos da primeira componente;"
   ]
  },
  {
   "cell_type": "code",
   "execution_count": 26,
   "metadata": {
    "collapsed": false
   },
   "outputs": [
    {
     "data": {
      "text/plain": [
       " [1]  1  3  6 10 15 21 28 36 45 55"
      ]
     },
     "execution_count": 26,
     "metadata": {},
     "output_type": "execute_result"
    },
    {
     "data": {
      "text/plain": [
       " [1]  1  3  6 10 15 21 28 36 45 55"
      ]
     },
     "execution_count": 26,
     "metadata": {},
     "output_type": "execute_result"
    }
   ],
   "source": [
    "x.lis <- list(a=1:10, b=letters[1:3], c=matrix(1:10,ncol=2))\n",
    "cumsum(x.lis$a)        # opção 1 - usando o operador $\n",
    "cumsum(x.lis[['a']])   # opção 2 - usando duplo colchetes\n"
   ]
  },
  {
   "cell_type": "markdown",
   "metadata": {},
   "source": [
    ">**b)** Obtenha a segunda componente;"
   ]
  },
  {
   "cell_type": "code",
   "execution_count": 27,
   "metadata": {
    "collapsed": false
   },
   "outputs": [
    {
     "data": {
      "text/plain": [
       "$b\n",
       "[1] \"a\" \"b\" \"c\"\n"
      ]
     },
     "execution_count": 27,
     "metadata": {},
     "output_type": "execute_result"
    },
    {
     "data": {
      "text/plain": [
       "$b\n",
       "[1] \"a\" \"b\" \"c\"\n"
      ]
     },
     "execution_count": 27,
     "metadata": {},
     "output_type": "execute_result"
    }
   ],
   "source": [
    "x.lis[2]   # opção 1 - usando indexação por posição\n",
    "x.lis['b'] # opção 2 - usando indexação por nome"
   ]
  },
  {
   "cell_type": "markdown",
   "metadata": {},
   "source": [
    ">**c)** Obtenha os nomes das componentes da lista;"
   ]
  },
  {
   "cell_type": "code",
   "execution_count": 28,
   "metadata": {
    "collapsed": false
   },
   "outputs": [
    {
     "data": {
      "text/plain": [
       "[1] \"a\" \"b\" \"c\""
      ]
     },
     "execution_count": 28,
     "metadata": {},
     "output_type": "execute_result"
    }
   ],
   "source": [
    "names(x.lis)"
   ]
  },
  {
   "cell_type": "markdown",
   "metadata": {},
   "source": [
    ">**d)** Adicione o vetor **`vec`** criado anteriormente à lista; "
   ]
  },
  {
   "cell_type": "code",
   "execution_count": 30,
   "metadata": {
    "collapsed": false
   },
   "outputs": [
    {
     "data": {
      "text/plain": [
       "$a\n",
       " [1]  1  2  3  4  5  6  7  8  9 10\n",
       "\n",
       "$b\n",
       "[1] \"a\" \"b\" \"c\"\n",
       "\n",
       "$c\n",
       "     [,1] [,2]\n",
       "[1,]    1    6\n",
       "[2,]    2    7\n",
       "[3,]    3    8\n",
       "[4,]    4    9\n",
       "[5,]    5   10\n",
       "\n",
       "$d\n",
       "[1] 26 NA 72 45 12 16 NA 88\n"
      ]
     },
     "execution_count": 30,
     "metadata": {},
     "output_type": "execute_result"
    }
   ],
   "source": [
    "x.lis$d <- vec\n",
    "x.lis"
   ]
  },
  {
   "cell_type": "markdown",
   "metadata": {},
   "source": [
    ">**8** Considere que você possua dados sobre o peso (em kg) e altura (em cm) de um conjunto de pessoas, conforme mostrado na tabela abaixo.\n",
    "\n",
    "</br>\n",
    "\n",
    "Nome   | Altura | Peso   \n",
    "-------|--------|-----  \n",
    "Pedro  | 180    | 87   \n",
    "José   | 165    | 58   \n",
    "Maria  | 160    | 65   \n",
    "Sandra | 193    | 100 \n",
    "\n",
    "\n",
    "Calcule o índice de massa corporal das 4 pessoas e identifique qual delas está com o IMC maior que 25.\n",
    "\n",
    "Obs. O Indíce de Massa Corporal (IMC) é dado por:\n",
    "\n",
    "$$IMC = \\frac{peso(kg)}{[altura(m)]^2}$$\n",
    "\n"
   ]
  },
  {
   "cell_type": "code",
   "execution_count": 32,
   "metadata": {
    "collapsed": false
   },
   "outputs": [
    {
     "data": {
      "text/plain": [
       "    Nome Altura Peso\n",
       "1  Pedro    180   87\n",
       "2  JosÃ©    165   58\n",
       "3  Maria    160   65\n",
       "4 Sandra    193  100"
      ]
     },
     "execution_count": 32,
     "metadata": {},
     "output_type": "execute_result"
    }
   ],
   "source": [
    "## Criação do data frame\n",
    "dados <- data.frame(Nome = c('Pedro', 'José', 'Maria', 'Sandra'),\n",
    "                  Altura = c(180, 165, 160, 193),\n",
    "                  Peso = c(87, 58, 65, 100),\n",
    "                  stringsAsFactors=FALSE)\n",
    "\n",
    "dados"
   ]
  },
  {
   "cell_type": "code",
   "execution_count": 35,
   "metadata": {
    "collapsed": false
   },
   "outputs": [
    {
     "data": {
      "text/plain": [
       "    Nome Altura Peso   imc\n",
       "1  Pedro    180   87 26.85\n",
       "2  JosÃ©    165   58 21.30\n",
       "3  Maria    160   65 25.39\n",
       "4 Sandra    193  100 26.85"
      ]
     },
     "execution_count": 35,
     "metadata": {},
     "output_type": "execute_result"
    }
   ],
   "source": [
    "## Cálculo do IMC\n",
    "dados$imc <- round(dados$Peso / (dados$Altura / 100) ^ 2, 2)\n",
    "dados"
   ]
  },
  {
   "cell_type": "code",
   "execution_count": 36,
   "metadata": {
    "collapsed": false
   },
   "outputs": [
    {
     "data": {
      "text/plain": [
       "    Nome Altura Peso   imc\n",
       "1  Pedro    180   87 26.85\n",
       "3  Maria    160   65 25.39\n",
       "4 Sandra    193  100 26.85"
      ]
     },
     "execution_count": 36,
     "metadata": {},
     "output_type": "execute_result"
    }
   ],
   "source": [
    "## Pessoa com IMC maior que 25\n",
    "dados[dados$imc > 25,]"
   ]
  },
  {
   "cell_type": "code",
   "execution_count": null,
   "metadata": {
    "collapsed": true
   },
   "outputs": [],
   "source": []
  }
 ],
 "metadata": {
  "kernelspec": {
   "display_name": "R-3.1.1",
   "language": "",
   "name": "ir"
  },
  "language_info": {
   "codemirror_mode": "r",
   "file_extension": ".r",
   "mimetype": "text/x-r-source",
   "name": "R",
   "pygments_lexer": "r",
   "version": "3.1.1"
  }
 },
 "nbformat": 4,
 "nbformat_minor": 0
}

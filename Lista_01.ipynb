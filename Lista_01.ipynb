{
 "cells": [
  {
   "cell_type": "markdown",
   "metadata": {},
   "source": [
    "![LogoECG](logoTCE_ECG_withR.jpg)\n",
    "\n",
    "### CURSO: INTRODUÇÃO AO SOFTWARE R\n",
    "\n",
    "Marcos F Silva - 09/03/2016\n",
    "\n",
    "\n",
    "<center> \n",
    "\n",
    "**LISTA DE EXERCÍCIOS 01**  \n",
    "Tópico: Introdução\n",
    "\n",
    "</center>"
   ]
  },
  {
   "cell_type": "markdown",
   "metadata": {},
   "source": [
    "**1** Crie um vetor chamado `vec` contendo os elementos {26, NA, 72, 45, 12, 16, NA, 88} e obtenha o que se pede:  \n",
    "  \n",
    "a) Obtenha um novo vetor (`vec1`) contendo o primeiro e o último elementos do vetor `vec`;  \n",
    "b) Insira entre os elementos 72 e 45 do vetor `vec` os elementos {24, 13, 42}. **Dica**: a função `append()` pode ser útil;     \n",
    "c) Obtenha o produto dos elementos do vetor `vec`;      \n",
    "d) Obtenha os valores que não sejam NAs;    \n",
    "e) Obtenha os valores maiores que a média dos elementos do vetor `vec`.  \n",
    "f) Obtenha um vetor contendo os valores que imediatamente antecedem e sucedem a cada NA. **Dica**: a função `which()` pode ser útil;    \n",
    "g) Dados os vetores `a <- c(14, 27, 45, 72, 19, -12)` e `b <- c(6, 9, 8, NA, 7, 5)`, calcule $a + b$;  \n",
    "h) Crie um vetor `num_pares` contendo os números inteiros pares menores que 100;   \n",
    "i) Exclua deste vetor os valres maiores que 60 e menores que 80;  \n",
    "j) Encontre a variância dos valores remanescentes.\n"
   ]
  },
  {
   "cell_type": "code",
   "execution_count": null,
   "metadata": {
    "collapsed": true
   },
   "outputs": [],
   "source": []
  },
  {
   "cell_type": "markdown",
   "metadata": {
    "collapsed": false
   },
   "source": [
    "**2** O volume de um cone de raio R e altura H é dado por $\\frac{1}{3} \\times \\pi \\times R^2 \\times H$. Tendo obtido o volume e a altua de alguns cones dados a seguir, calcule o volume de cada um deles.\n",
    "\n",
    "$$R = \\{2.27, 1.98, 1.69, 1.88, 1.64, 2.14\\}$$\n",
    "$$H = \\{8.28, 8.04, 9.06, 8.70, 7.58, 8.34\\}$$"
   ]
  },
  {
   "cell_type": "code",
   "execution_count": null,
   "metadata": {
    "collapsed": true
   },
   "outputs": [],
   "source": []
  },
  {
   "cell_type": "markdown",
   "metadata": {},
   "source": [
    "**3** Calcule o que se pede:\n",
    "\n",
    "a) $3 + 9 / 5$  \n",
    "\n",
    "b) $56^4 + \\frac{29}{5}$  \n",
    "\n",
    "c) $\\sqrt{76}$    \n",
    "\n",
    "d) $\\ln{12345}$  \n",
    "\n",
    "e) $\\log_2{12345}$  \n",
    "\n",
    "f) $\\log_{10}{12345}$    \n",
    "\n",
    "g) $\\binom{6}{2}$ - combinatório de seis, dois a dois (**Dica**: existe uma função que calcula isso). \n",
    "\n",
    "h) $| 18 - 50 |$  \n",
    "\n",
    "i) $\\sin(\\pi), \\cos(\\pi), \\tan(\\pi)$  \n",
    "\n",
    "j) Arredonde o valor de $\\pi$ para 4 casas decimais;"
   ]
  },
  {
   "cell_type": "code",
   "execution_count": null,
   "metadata": {
    "collapsed": false
   },
   "outputs": [],
   "source": []
  },
  {
   "cell_type": "markdown",
   "metadata": {},
   "source": [
    "**4** Dada a matriz **A** definida a seguir, obtenha o que se pede: \n",
    "\n",
    "</br>\n",
    "\n",
    "<center>\n",
    "$ A = \n",
    "\\begin{bmatrix}\n",
    "35 & 72 & 45 \\\\\n",
    "20 &  9 & 17 \\\\ \n",
    "13 & 16 & 78\n",
    "\\end{bmatrix}\n",
    "$\n",
    "</center> \n",
    "\n",
    "a) obtenha os elementos da diagonal principal. **Dica**: existe uma função que faz isso...;   \n",
    "b) obtenha a soma dos elementos da matriz;   \n",
    "c) obtenha a soma dos elementos da primeira linha e da segunda coluna $(A_{11}+A_{12}+A_{13}+A_{12}+A_{22}+A_{32})$   \n",
    "d) obtenha a soma da primeira coluna com com a terceira linha $(A_{.1}+A{3.})$  \n",
    "e) faça a trasposição da matriz;  \n",
    "f) crie duas novas colunas com os valores: coluna 4:{27, 48, 23}, coluna 5:{12, 3, 9};  \n",
    "g) substitua a terceira coluna de $A$ pela soma da segunda e terceira colunas;   "
   ]
  },
  {
   "cell_type": "code",
   "execution_count": null,
   "metadata": {
    "collapsed": true
   },
   "outputs": [],
   "source": []
  },
  {
   "cell_type": "markdown",
   "metadata": {},
   "source": [
    "**5** Considerere o data frame definido a seguir:\n",
    "```\n",
    "df <- data.frame( nome = c('Marcos', 'João', 'José', NA, 'Maria', 'Helena', 'Jordana'),\n",
    "                 idade = c(44, 26, NA, 29, 41, 55, 72))                \n",
    "```                 \n",
    "\n",
    "a) Obtenha as linhas para as quais existam NA. **Dica**: a função `complete.cases()` pode ser útil;    \n",
    "b) Obtenha a soma dos valores da coluna `idade`;   \n",
    "c) Selecione a linha contendo o nome da pessoa de menor idade;   \n",
    "d) Obtenha as linas para as quais não existam NA;   \n",
    "e) Calcule as dimensões de `df['idade']` e `df[['idade']]`. Use a função `dim()`;   \n",
    "f) Obtenha os nomes das variáveis do data frame `df`;  \n",
    "g) Adicione ao data frame os seguintes valores {Felipe, 36}, {Carla, 49} e {Rosane, 18};  \n",
    "h) Obtenha os números das linhas para as quais existam NA;   "
   ]
  },
  {
   "cell_type": "markdown",
   "metadata": {
    "collapsed": true
   },
   "source": [
    "**6** Experimente o comando `which.min(c(3,5,1,7,8))`. Explique o valor retornado pela função."
   ]
  },
  {
   "cell_type": "markdown",
   "metadata": {},
   "source": [
    "Resp.:"
   ]
  },
  {
   "cell_type": "markdown",
   "metadata": {},
   "source": [
    "**7** Considere a lista **`x.lis`** definida da seguinte forma: `x.lis <- list(a=1:10, b=letters[1:3], c=matrix(1:10,ncol=2))`.\n",
    "\n",
    "a) Obtenha a soma acumulada dos elementos da primeira componente;  \n",
    "b) Obtenha a segunda componente;  \n",
    "c) Obtenha os nomes das componentes da lista;  \n",
    "d) Adicione o vetor **`vec`** criado anteriormente à lista; "
   ]
  },
  {
   "cell_type": "code",
   "execution_count": null,
   "metadata": {
    "collapsed": true
   },
   "outputs": [],
   "source": []
  },
  {
   "cell_type": "markdown",
   "metadata": {},
   "source": [
    "**8** Considere que você possua dados sobre o peso (em kg) e altura (em cm) de um conjunto de pessoas, conforme mostrado na tabela abaixo.\n",
    "\n",
    "</br>\n",
    "\n",
    "Nome   | Altura | Peso   \n",
    "-------|--------|-----  \n",
    "Pedro  | 180    | 87   \n",
    "José   | 165    | 58   \n",
    "Maria  | 160    | 65   \n",
    "Sandra | 193    | 100 \n",
    "\n",
    "\n",
    "Calcule o índice de massa corporal das 4 pessoas e identifique qual delas está com o IMC maior que 25.\n",
    "\n",
    "Obs. O Indíce de Massa Corporal (IMC) é dado por:\n",
    "\n",
    "$$IMC = \\frac{peso(kg)}{[altura(m)]^2}$$\n",
    "\n"
   ]
  },
  {
   "cell_type": "code",
   "execution_count": null,
   "metadata": {
    "collapsed": true
   },
   "outputs": [],
   "source": []
  }
 ],
 "metadata": {
  "kernelspec": {
   "display_name": "R-3.1.1",
   "language": "",
   "name": "ir"
  },
  "language_info": {
   "codemirror_mode": "r",
   "file_extension": ".r",
   "mimetype": "text/x-r-source",
   "name": "R",
   "pygments_lexer": "r",
   "version": "3.1.1"
  }
 },
 "nbformat": 4,
 "nbformat_minor": 0
}
